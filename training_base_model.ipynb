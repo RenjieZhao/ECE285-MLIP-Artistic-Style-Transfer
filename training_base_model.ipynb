{
 "cells": [
  {
   "cell_type": "markdown",
   "metadata": {},
   "source": [
    "# Training CycleGANs\n",
    "This is the version meant to be used on the pods, and this will train Monet. "
   ]
  },
  {
   "cell_type": "code",
   "execution_count": 1,
   "metadata": {},
   "outputs": [],
   "source": [
    "%matplotlib notebook\n",
    "import os\n",
    "import numpy as np\n",
    "import torch\n",
    "from torch import nn\n",
    "from torch.nn import functional as F\n",
    "from torch.autograd import Variable\n",
    "import torch.utils.data as td\n",
    "import torchvision as tv\n",
    "import pandas as pd\n",
    "from PIL import Image\n",
    "from matplotlib import pyplot as plt\n",
    "import time\n",
    "import random"
   ]
  },
  {
   "cell_type": "code",
   "execution_count": 2,
   "metadata": {},
   "outputs": [
    {
     "name": "stdout",
     "output_type": "stream",
     "text": [
      "cuda\n"
     ]
    }
   ],
   "source": [
    "device = 'cuda' if torch.cuda.is_available() else 'cpu'\n",
    "print(device)"
   ]
  },
  {
   "cell_type": "code",
   "execution_count": 3,
   "metadata": {},
   "outputs": [],
   "source": [
    "def getDataset(path,image_size=(256,256)):\n",
    "    transform = tv.transforms.Compose([\n",
    "        tv.transforms.Resize(image_size,Image.LANCZOS),\n",
    "        tv.transforms.ToTensor(),\n",
    "        tv.transforms.Normalize((0.5,0.5,0.5),(0.5,0.5,0.5))\n",
    "        ])\n",
    "    dataset = tv.datasets.ImageFolder(path,transform) #what I downloaded\n",
    "    return dataset\n",
    "    "
   ]
  },
  {
   "cell_type": "code",
   "execution_count": 4,
   "metadata": {},
   "outputs": [],
   "source": [
    "landscapes_train= getDataset('landscape_photos/train/')\n",
    "landscapes_test= getDataset('landscape_photos/test/')"
   ]
  },
  {
   "cell_type": "markdown",
   "metadata": {},
   "source": [
    "If we are using the dataset hosted on the servers"
   ]
  },
  {
   "cell_type": "code",
   "execution_count": 5,
   "metadata": {},
   "outputs": [],
   "source": [
    "#landscapes = getDataset('/datasets/ee285f-public/flickr_landscape')\n",
    "#train_size = int(0.8 * len(landscapes))\n",
    "#test_size = len(landscapes) - train_size\n",
    "#landscapes_train, landscapes_test = torch.utils.data.random_split(landscapes, [train_size, test_size])"
   ]
  },
  {
   "cell_type": "code",
   "execution_count": 6,
   "metadata": {},
   "outputs": [],
   "source": [
    "!cp /datasets/ee285f-public/wikiart/Artist/artist_train ./artist_train.csv\n",
    "!cp /datasets/ee285f-public/wikiart/Artist/artist_val ./artist_test.csv"
   ]
  },
  {
   "cell_type": "code",
   "execution_count": 7,
   "metadata": {},
   "outputs": [],
   "source": [
    "class WikiartArtistDataset(td.Dataset):\n",
    "    def __init__(self, root_dir, mode=\"train\", image_size=(256, 256)):\n",
    "        super(WikiartArtistDataset, self).__init__()\n",
    "        self.image_size = image_size\n",
    "        self.mode = mode\n",
    "        csv = pd.read_csv(\"./artist_%s.csv\" % mode,header=None)\n",
    "        csv = csv.iloc[1:,]\n",
    "        csv.index = range(len(csv))\n",
    "        self.csv = csv\n",
    "        self.data = self.csv[0].tolist()\n",
    "        self.artists = self.csv[2].tolist()\n",
    "        self.images_dir = os.path.join(root_dir)\n",
    "    def __len__(self):\n",
    "        return len(self.data)\n",
    "    def __repr__(self):\n",
    "        return \"WikiartDataset(mode={}, image_size={})\". \\\n",
    "            format(self.mode, self.image_size)\n",
    "    def __getitem__(self, idx):\n",
    "        img_path = os.path.join(self.images_dir, \\\n",
    "                                self.data[idx])\n",
    "        img = Image.open(img_path).convert('RGB')\n",
    "        transform = tv.transforms.Compose([\n",
    "            tv.transforms.Resize(self.image_size),\n",
    "            tv.transforms.ToTensor(),\n",
    "            tv.transforms.Normalize((0.5,0.5,0.5),(0.5,0.5,0.5))\n",
    "            ])\n",
    "        x = transform(img)\n",
    "        d = self.artists[idx]\n",
    "        return x, d\n",
    "    def number_of_classes(self):\n",
    "        return len(set(self.artists))\n",
    "    def get_name(self,idx):\n",
    "        return self.data[idx]\n",
    "    "
   ]
  },
  {
   "cell_type": "code",
   "execution_count": 8,
   "metadata": {},
   "outputs": [],
   "source": [
    "image_root_dir='/datasets/ee285f-public/wikiart/wikiart/'\n",
    "art_train = WikiartArtistDataset(image_root_dir,mode='train')\n",
    "art_test = WikiartArtistDataset(image_root_dir,mode='test')"
   ]
  },
  {
   "cell_type": "code",
   "execution_count": 9,
   "metadata": {},
   "outputs": [],
   "source": [
    "!cp /datasets/ee285f-public/wikiart/Artist/artist_class ./artist_class.csv\n",
    "artist_class = pd.read_csv('./artist_class.csv', header=None)"
   ]
  },
  {
   "cell_type": "code",
   "execution_count": 10,
   "metadata": {},
   "outputs": [
    {
     "data": {
      "text/plain": [
       "array([['0 Albrecht_Durer'],\n",
       "       ['1 Boris_Kustodiev'],\n",
       "       ['2 Camille_Pissarro'],\n",
       "       ['3 Childe_Hassam'],\n",
       "       ['4 Claude_Monet'],\n",
       "       ['5 Edgar_Degas'],\n",
       "       ['6 Eugene_Boudin'],\n",
       "       ['7 Gustave_Dore'],\n",
       "       ['8 Ilya_Repin'],\n",
       "       ['9 Ivan_Aivazovsky'],\n",
       "       ['10 Ivan_Shishkin'],\n",
       "       ['11 John_Singer_Sargent'],\n",
       "       ['12 Marc_Chagall'],\n",
       "       ['13 Martiros_Saryan'],\n",
       "       ['14 Nicholas_Roerich'],\n",
       "       ['15 Pablo_Picasso'],\n",
       "       ['16 Paul_Cezanne'],\n",
       "       ['17 Pierre_Auguste_Renoir'],\n",
       "       ['18 Pyotr_Konchalovsky'],\n",
       "       ['19 Raphael_Kirchner'],\n",
       "       ['20 Rembrandt'],\n",
       "       ['21 Salvador_Dali'],\n",
       "       ['22 Vincent_van_Gogh']], dtype=object)"
      ]
     },
     "execution_count": 10,
     "metadata": {},
     "output_type": "execute_result"
    }
   ],
   "source": [
    "artist_class.values # choose an artist id here "
   ]
  },
  {
   "cell_type": "code",
   "execution_count": 11,
   "metadata": {},
   "outputs": [],
   "source": [
    "#artist_class\n",
    "class SpecificArtistDataset(td.Dataset):\n",
    "    def __init__(self,root_dir, artist_id, wikiart, image_size=(256, 256)):\n",
    "        super(SpecificArtistDataset, self).__init__()\n",
    "        self.image_size = image_size\n",
    "        csv = wikiart\n",
    "        csv = wikiart[wikiart[2] == artist_id]\n",
    "        csv.index = range(len(csv))\n",
    "        self.csv = csv\n",
    "        self.data = self.csv[0].tolist()\n",
    "        self.artists = self.csv[2].tolist()\n",
    "        self.images_dir = os.path.join(root_dir)\n",
    "    def __repr__(self):\n",
    "        return \"SpecificArtistDataset(image_size={})\". \\\n",
    "            format(self.image_size)\n",
    "    def __len__(self):\n",
    "        return len(self.data)\n",
    "    def __getitem__(self, idx):\n",
    "        img_path = os.path.join(self.images_dir, \\\n",
    "                                self.data[idx])\n",
    "        img = Image.open(img_path).convert('RGB')\n",
    "        transform = tv.transforms.Compose([\n",
    "            tv.transforms.Resize(self.image_size,Image.LANCZOS),\n",
    "            tv.transforms.ToTensor(),\n",
    "            tv.transforms.Normalize((0.5,0.5,0.5),(0.5,0.5,0.5))\n",
    "            ])\n",
    "        x = transform(img)\n",
    "        return x,artist_id\n",
    "    def get_name(self,idx):\n",
    "        return self.data[idx]\n",
    "    "
   ]
  },
  {
   "cell_type": "code",
   "execution_count": 12,
   "metadata": {},
   "outputs": [],
   "source": [
    "artist_id ='4' # Monet"
   ]
  },
  {
   "cell_type": "code",
   "execution_count": 13,
   "metadata": {},
   "outputs": [],
   "source": [
    "artist_train = SpecificArtistDataset(image_root_dir,artist_id,art_train.csv) ## change the number for different artist\n",
    "artist_test = SpecificArtistDataset(image_root_dir,artist_id,art_test.csv)"
   ]
  },
  {
   "cell_type": "markdown",
   "metadata": {},
   "source": [
    "If we are using dataset from the author like for Ukiyo-e and Van Gogh we just place the data into train and test subfolders and use getDataset()"
   ]
  },
  {
   "cell_type": "code",
   "execution_count": 14,
   "metadata": {},
   "outputs": [],
   "source": [
    "def myimshow(image, ax=plt):\n",
    "    image = image.to('cpu').numpy()\n",
    "    image = np.moveaxis(image, [0, 1, 2], [2, 0, 1])\n",
    "    image = (image + 1) / 2\n",
    "    image[image < 0] = 0\n",
    "    image[image > 1] = 1\n",
    "    h = ax.imshow(image)\n",
    "    ax.axis('off')\n",
    "    return h"
   ]
  },
  {
   "cell_type": "code",
   "execution_count": 15,
   "metadata": {
    "scrolled": true
   },
   "outputs": [],
   "source": [
    "#myimshow(artist_train[1][0])"
   ]
  },
  {
   "cell_type": "code",
   "execution_count": 16,
   "metadata": {},
   "outputs": [],
   "source": [
    "#artist_train.get_name(1)\n"
   ]
  },
  {
   "cell_type": "markdown",
   "metadata": {},
   "source": [
    "## Params "
   ]
  },
  {
   "cell_type": "markdown",
   "metadata": {},
   "source": [
    "From paper:\n",
    "\n",
    "Generator\n",
    " 9 residual blocks consists\n",
    "c7s1-64,d128,d256,R256,R256,R256,\n",
    "R256,R256,R256,R256,R256,R256,u128\n",
    "u64,c7s1-3\n",
    "\n",
    "Discriminator:\n",
    "C64-C128-C256-C512 where 4x4 Convolution-Instance-Norm-LeakyReLU layer with k filters and stride 2. Last layer is followed by a convolution to 1 dimensional. First layer does not have instance norm. leakyrelu(0.2)"
   ]
  },
  {
   "cell_type": "code",
   "execution_count": 17,
   "metadata": {},
   "outputs": [],
   "source": [
    "lr = 0.0002 # this is what they used in paper and decayed to 0 after 100 epochs\n",
    "beta1 = 0.5 # beta values can try tuning in future\n",
    "beta2 = 0.999\n",
    "lambda_cyc = 10 #from the paper, we tried 7 for the lower lambda experiment\n",
    "batch_size = 1 # not sure\n",
    "epochs = 200 #\n",
    "lambda_iden = 0.5"
   ]
  },
  {
   "cell_type": "code",
   "execution_count": 18,
   "metadata": {},
   "outputs": [],
   "source": [
    "import network as net #discriminators and generators from renjie in network.py "
   ]
  },
  {
   "cell_type": "markdown",
   "metadata": {},
   "source": [
    "## Helper "
   ]
  },
  {
   "cell_type": "code",
   "execution_count": 19,
   "metadata": {},
   "outputs": [],
   "source": [
    "#history of generated images\n",
    "class fake_hist():\n",
    "    def __init__(self, size):\n",
    "        self.size = size\n",
    "        self.count = 0\n",
    "        self.fakes = []\n",
    "    def get_fake(self, new_fakes):\n",
    "        toReturn = []\n",
    "        for fake in new_fakes:\n",
    "            image = torch.unsqueeze(fake.data, 0)\n",
    "            if self.count < self.size:\n",
    "                self.count+=1\n",
    "                self.fakes.append(image)\n",
    "                toReturn.append(image)\n",
    "            else:\n",
    "                #either get random image from the history or return this image\n",
    "                if random.random() > 0.5:\n",
    "                    index = random.randint(0, self.size - 1) \n",
    "                    toReturn.append(self.fakes[index].clone())\n",
    "                    self.fakes[index] = image\n",
    "                else:\n",
    "                    toReturn.append(image)\n",
    "        return torch.cat(toReturn, 0) "
   ]
  },
  {
   "cell_type": "code",
   "execution_count": 20,
   "metadata": {},
   "outputs": [],
   "source": [
    "#add noise\n",
    "def addNoise(img, mean=0, std=0.1):\n",
    "    noise = Variable(img.data.new(img.size()).normal_(mean, std))\n",
    "    return img + noise"
   ]
  },
  {
   "cell_type": "markdown",
   "metadata": {},
   "source": [
    "## Training class"
   ]
  },
  {
   "cell_type": "code",
   "execution_count": 119,
   "metadata": {},
   "outputs": [],
   "source": [
    "# some code taken from nntools\n",
    "class TrainCycleGAN(object):\n",
    "    def __init__(self, Dx,Dy,Gxy,Gyx, artist_train,landscapes_train,\n",
    "                 output_dir,device,gen_optim,dis_optim, batch_size=1,\n",
    "                 epochs=200,lambda_cyc=10,lambda_iden=0.5,load_epoch='0'):\n",
    "        self.epochs = epochs\n",
    "        self.epoch_count = 1\n",
    "        self.Dx = Dx\n",
    "        self.Dy = Dy\n",
    "        self.Gxy = Gxy\n",
    "        self.Gyx = Gyx\n",
    "        self.device = device\n",
    "        self.gen_optim = gen_optim\n",
    "        self.dis_optim = dis_optim\n",
    "        self.art_hist = fake_hist(50)\n",
    "        self.landscape_hist = fake_hist(50)\n",
    "        self.lambda_cyc = lambda_cyc\n",
    "        self.lambda_iden = lambda_iden\n",
    "        self.dx_loss = []\n",
    "        self.dy_loss = []\n",
    "        self.g_loss = []\n",
    "        self.cyc_loss = []\n",
    "        self.idt_loss = []\n",
    "        \n",
    "        self.landscape_loader = td.DataLoader(landscapes_train, batch_size=batch_size,shuffle=True, pin_memory=True)\n",
    "        self.art_loader = td.DataLoader(artist_train,batch_size=batch_size,shuffle=True, pin_memory=True)\n",
    "        self.art_itr = iter(self.art_loader)\n",
    "        self.landscape_itr = iter(self.landscape_loader)\n",
    "        os.makedirs(output_dir, exist_ok=True)\n",
    "        os.makedirs(output_dir+'models/', exist_ok=True)\n",
    "        os.makedirs(output_dir+'images/', exist_ok=True)\n",
    "        self.model_path = os.path.join(output_dir,'models/')\n",
    "        self.img_path = os.path.join(output_dir,'images/')\n",
    "        \n",
    "        #might want to load a specific epoch before training goes bad\n",
    "        if(load_epoch != '0'):\n",
    "            if not os.path.isfile(self.model_path+load_epoch+'_state.pt'):\n",
    "                        raise ValueError('No saved models for given epoch')\n",
    "            else:\n",
    "                self.load(load_epoch)\n",
    "                \n",
    "    def state_dict(self):\n",
    "        \"\"\"Returns the current state of the experiment.\"\"\"\n",
    "        return {'Dx': self.Dx.state_dict(),\n",
    "                'Dy': self.Dy.state_dict(),\n",
    "                'Gxy': self.Gxy.state_dict(),\n",
    "                'Gyx': self.Gyx.state_dict(),\n",
    "                'gen_optim': self.gen_optim.state_dict(),\n",
    "                'dis_optim': self.dis_optim.state_dict(),\n",
    "                'Epoch': self.epoch_count}\n",
    "    def save(self):\n",
    "            torch.save(self.state_dict(), self.model_path+str(self.epoch_count)+'_state.pt')\n",
    "            d = {'Dx loss':self.dx_loss,'Dy loss':self.dy_loss, 'G loss':self.g_loss,\n",
    "                 'Cycle loss':self.cyc_loss, 'Iden loss': self.idt_loss} \n",
    "            df = pd.DataFrame(d)\n",
    "            df.to_csv(output_dir+'losses.csv', index=False)\n",
    "    def load(self,load_epoch):\n",
    "        \"\"\"Loads the experiment from the last checkpoint saved on disk.\"\"\"\n",
    "        checkpoint = torch.load(self.model_path+load_epoch+'_state.pt',\n",
    "                                map_location=self.device)\n",
    "        self.load_state_dict(checkpoint)\n",
    "        del checkpoint\n",
    "        losses = pd.read_csv(output_dir+'losses.csv').iloc[:int((int(load_epoch)/5))]\n",
    "        self.dx_loss = losses['Dx loss'].tolist()\n",
    "        self.dy_loss = losses['Dy loss'].tolist()\n",
    "        self.g_loss = losses['G loss'].tolist()\n",
    "        self.cyc_loss = losses['Cycle loss'].tolist()\n",
    "        self.idt_loss = losses['Iden loss'].tolist()\n",
    "\n",
    "    def load_state_dict(self, checkpoint):\n",
    "        \"\"\"Loads the experiment from the input checkpoint.\"\"\"\n",
    "        self.Dx.load_state_dict(checkpoint['Dx'])\n",
    "        self.Dy.load_state_dict(checkpoint['Dy'])\n",
    "        self.Gxy.load_state_dict(checkpoint['Gxy'])\n",
    "        self.Gyx.load_state_dict(checkpoint['Gyx'])\n",
    "        self.Dx.to(self.device)\n",
    "        self.Dy.to(self.device)\n",
    "        self.Gxy.to(self.device)\n",
    "        self.Gyx.to(self.device)\n",
    "        self.gen_optim.load_state_dict(checkpoint['gen_optim'])\n",
    "        self.dis_optim.load_state_dict(checkpoint['dis_optim'])\n",
    "        self.epoch_count= checkpoint['Epoch'] + 1\n",
    "    def setLR(self):\n",
    "        if(self.epoch_count > 100):\n",
    "            new_lr = 0.0002 - 0.0002*(self.epoch_count-100)/100\n",
    "            if(new_lr)<0:\n",
    "                new_lr = 0\n",
    "            for param_group in self.dis_optim.param_groups:\n",
    "                param_group['lr'] = new_lr\n",
    "            for param_group in self.gen_optim.param_groups:\n",
    "                param_group['lr'] = new_lr    \n",
    "    def train(self,test_art,test_landscape,noise=False,identity=False,limitupdates=False):\n",
    "        epochs_left = self.epochs - self.epoch_count + 1\n",
    "        min_amount = min(len(self.art_itr), len(self.landscape_itr))\n",
    "        remaining_iterations = epochs_left*min_amount\n",
    "        total = self.epochs* min_amount #total iterations is epoch * size of smallest dataset\n",
    "        starting = (self.epoch_count-1)*min_amount # how many already completed if loaded\n",
    "        std_dev = 0.1 - 0.1*(self.epoch_count/200)\n",
    "        self.setLR()\n",
    "        f, axes = plt.subplots(2,3, figsize=(9,6))\n",
    "        epoch_start = time.time()\n",
    "        \n",
    "        print(self.epoch_count)\n",
    "        for i in range(starting+1,total):\n",
    "            #ran out of images in one of the sets, start over if still have iterations\n",
    "            if i % min_amount == 0:\n",
    "                print(time.time() - epoch_start)\n",
    "                epoch_start = time.time()\n",
    "                self.art_itr = iter(self.art_loader)\n",
    "                self.landscape_itr = iter(self.landscape_loader)\n",
    "                self.epoch_count+=1\n",
    "                print(self.epoch_count)\n",
    "                self.setLR()\n",
    "                std_dev = 0.1 - 0.1*(self.epoch_count/200)\n",
    "            real_art =self.art_itr.next()[0].to(self.device)\n",
    "            real_landscape = self.landscape_itr.next()[0].to(self.device)\n",
    "            fake_art = self.Gyx(real_landscape)\n",
    "            fake_landscape= self.Gxy(real_art)\n",
    "\n",
    "            #don't need to do anything with discriminator gradient here\n",
    "            for param in self.Dx.parameters():\n",
    "                param.requires_grad = False\n",
    "            for param in self.Dy.parameters():\n",
    "                param.requires_grad = False\n",
    "            #Generator loss\n",
    "            self.gen_optim.zero_grad()\n",
    "            recon_landscape = self.Gxy(fake_art)\n",
    "            recon_art = self.Gyx(fake_landscape)\n",
    "            cycle_loss = (((real_art - recon_art).abs()).mean()) + (((real_landscape - recon_landscape).abs()).mean())\n",
    "            #also added noise to input here in one version as seen in report\n",
    "            Gyx_loss = ((self.Dx(fake_art) - 1)**2).mean() \n",
    "            Gxy_loss = ((self.Dy(fake_landscape) - 1)**2).mean()  #want to fool the discriminator so 1 is better\n",
    "            G_loss = Gxy_loss + Gyx_loss + self.lambda_cyc*cycle_loss\n",
    "            iden_loss = 0\n",
    "            if(identity):\n",
    "                loss_iden_art = ((self.Gyx(real_art) - real_art).abs()).mean()\n",
    "                loss_iden_landscape = ((self.Gxy(real_landscape) - real_landscape).abs()).mean()\n",
    "                iden_loss = loss_iden_art + loss_iden_landscape\n",
    "                G_loss = Gxy_loss + Gyx_loss + self.lambda_cyc*cycle_loss + iden_loss*self.lambda_cyc*self.lambda_iden\n",
    "            G_loss.backward()\n",
    "            self.gen_optim.step()\n",
    "\n",
    "            #Discriminator Loss\n",
    "            for param in self.Dx.parameters():\n",
    "                param.requires_grad = True\n",
    "            for param in self.Dy.parameters():\n",
    "                param.requires_grad = True\n",
    "                dis_optim.zero_grad()\n",
    "\n",
    "            gen_art = self.art_hist.get_fake(fake_art).detach()\n",
    "            gen_landscape = self.landscape_hist.get_fake(fake_landscape).detach()\n",
    "            if noise:\n",
    "                real_art = addNoise(real_art,0,std=std_dev)\n",
    "                real_landscape = addNoise(real_landscape,0,std=std_dev)\n",
    "                gen_art = addNoise(gen_art,0,std=std_dev)\n",
    "                gen_landscape = addNoise(gen_landscape,0,std=std_dev)\n",
    "            #loss on real images\n",
    "            Dx_loss_real = ((self.Dx(real_art) - 1)**2).mean() # x is art domain\n",
    "            Dy_loss_real = ((self.Dy(real_landscape) - 1)**2).mean() # y is landscape domain\n",
    "            #loss on generated images\n",
    "            Dx_fake_pred = self.Dx(gen_art);\n",
    "            Dy_fake_pred = self.Dy(gen_landscape)\n",
    "\n",
    "            Dx_loss_fake = (Dx_fake_pred**2).mean()\n",
    "            Dy_loss_fake = (Dy_fake_pred**2).mean()\n",
    "            #want d to minimize the loss between fake and real, so combine.\n",
    "            Dx_loss = 0.5*Dx_loss_real+0.5*Dx_loss_fake\n",
    "            Dy_loss = 0.5*Dy_loss_real+0.5*Dy_loss_fake\n",
    "            if not limitupdates: # update only when prediction is bad\n",
    "                Dx_loss.backward()\n",
    "                Dy_loss.backward()\n",
    "                self.dis_optim.step()\n",
    "            elif (Dx_fake_pred.mean() > 0.5 or Dy_fake_pred.mean() > 0.5):\n",
    "                Dx_loss.backward()\n",
    "                Dy_loss.backward()\n",
    "                self.dis_optim.step()\n",
    "\n",
    "            #update\n",
    "            if i % min_amount == 0:\n",
    "                print('Iteration [{:5d}/{:5d}] | Dy_loss: {:6.4f} | Dx_loss: {:6.4f} | '\n",
    "                      'g_loss: {:6.4f}'.format(\n",
    "                        i, total, Dy_loss.data.item(),\n",
    "                        Dx_loss.data.item(), G_loss.data.item()))\n",
    "\n",
    "            #every 5 epochs\n",
    "            if i % (int(remaining_iterations/40)) == 0:\n",
    "                self.Gxy.eval()\n",
    "                self.Gyx.eval()\n",
    "                with torch.no_grad():\n",
    "                    test_fake_art = self.Gyx(test_landscape).detach()\n",
    "                    test_fake_landscape = self.Gxy(test_art).detach()\n",
    "                    recon_art= self.Gyx(test_fake_landscape).detach()\n",
    "                    recon_landscape =  self.Gxy(test_fake_art).detach()\n",
    "                    myimshow(test_art[0], ax=axes[0][0])\n",
    "                    myimshow(test_fake_art[0], ax=axes[1][1])\n",
    "                    myimshow(test_landscape[0], ax=axes[1][0])\n",
    "                    myimshow(test_fake_landscape[0], ax=axes[0][1])\n",
    "                    myimshow(recon_landscape[0], ax=axes[1][2])\n",
    "                    myimshow(recon_art[0], ax=axes[0][2])\n",
    "                    plt.tight_layout()\n",
    "                    f.canvas.draw()\n",
    "                    f.savefig(self.img_path+str(self.epoch_count)+'_test.jpg', bbox_inches='tight')\n",
    "                self.Gxy.train()\n",
    "                self.Gyx.train()\n",
    "                self.dx_loss.append(Dx_loss.data.tolist())\n",
    "                self.dy_loss.append(Dy_loss.data.tolist())\n",
    "                self.g_loss.append(G_loss.data.tolist())\n",
    "                self.cyc_loss.append(cycle_loss.data.tolist())\n",
    "                if iden_loss:\n",
    "                    self.idt_loss.append(iden_loss.data.tolist())\n",
    "                else:\n",
    "                    self.idt_loss.append(0)\n",
    "                self.save()\n",
    "        self.save()\n",
    "                    \n",
    "            "
   ]
  },
  {
   "cell_type": "code",
   "execution_count": 120,
   "metadata": {},
   "outputs": [],
   "source": [
    "#!mkdir cyclegan_monet_base_train\n",
    "#!mkdir cyclegan_monet_base_train/models"
   ]
  },
  {
   "cell_type": "code",
   "execution_count": 121,
   "metadata": {},
   "outputs": [],
   "source": [
    "output_dir = 'cyclegan_monet_base_train/'\n",
    "model_dir = 'cyclegan_monet_base_train/models/'"
   ]
  },
  {
   "cell_type": "markdown",
   "metadata": {},
   "source": [
    "# Training"
   ]
  },
  {
   "cell_type": "markdown",
   "metadata": {},
   "source": [
    "## Discriminators"
   ]
  },
  {
   "cell_type": "code",
   "execution_count": 122,
   "metadata": {},
   "outputs": [],
   "source": [
    "Dx = net.define_D().to(device)\n",
    "Dy = net.define_D().to(device)\n",
    "dis_params = list(Dx.parameters()) + list(Dy.parameters())"
   ]
  },
  {
   "cell_type": "markdown",
   "metadata": {},
   "source": [
    "## Generators"
   ]
  },
  {
   "cell_type": "code",
   "execution_count": 123,
   "metadata": {},
   "outputs": [],
   "source": [
    "Gxy = net.define_G().to(device)\n",
    "Gyx = net.define_G().to(device)\n",
    "gen_params = list(Gxy.parameters()) + list(Gyx.parameters())"
   ]
  },
  {
   "cell_type": "markdown",
   "metadata": {},
   "source": [
    "Optimizer"
   ]
  },
  {
   "cell_type": "code",
   "execution_count": 124,
   "metadata": {},
   "outputs": [],
   "source": [
    "dis_optim = torch.optim.Adam(dis_params, lr, [beta1, beta2])\n",
    "gen_optim = torch.optim.Adam(gen_params, lr, [beta1, beta2])"
   ]
  },
  {
   "cell_type": "code",
   "execution_count": 125,
   "metadata": {},
   "outputs": [],
   "source": [
    "landscape_loader_test = td.DataLoader(landscapes_test, batch_size=batch_size,shuffle=True, pin_memory=True)\n",
    "art_loader_test= td.DataLoader(artist_test,batch_size=batch_size,shuffle=True, pin_memory=True)"
   ]
  },
  {
   "cell_type": "code",
   "execution_count": 126,
   "metadata": {},
   "outputs": [],
   "source": [
    "art_test_itr= iter(art_loader_test)\n",
    "landscape_test_itr = iter(landscape_loader_test)"
   ]
  },
  {
   "cell_type": "code",
   "execution_count": 127,
   "metadata": {},
   "outputs": [],
   "source": [
    "test_art = art_test_itr.next()[0].to(device)\n",
    "test_landscape = landscape_test_itr.next()[0].to(device)"
   ]
  },
  {
   "cell_type": "code",
   "execution_count": 128,
   "metadata": {},
   "outputs": [],
   "source": [
    "exp = TrainCycleGAN(Dx,Dy,Gxy,Gyx,artist_train,landscapes_train,output_dir,device,gen_optim,dis_optim)"
   ]
  },
  {
   "cell_type": "code",
   "execution_count": null,
   "metadata": {},
   "outputs": [],
   "source": [
    "exp.train(test_art,test_landscape)"
   ]
  },
  {
   "cell_type": "code",
   "execution_count": 130,
   "metadata": {},
   "outputs": [],
   "source": [
    "test_landscape2 = landscape_test_itr.next()[0].to(device)"
   ]
  },
  {
   "cell_type": "code",
   "execution_count": 131,
   "metadata": {},
   "outputs": [],
   "source": [
    "test_art2 = art_test_itr.next()[0].to(device)"
   ]
  },
  {
   "cell_type": "code",
   "execution_count": null,
   "metadata": {
    "scrolled": true
   },
   "outputs": [],
   "source": [
    "f, axes = plt.subplots(2,3,figsize=(9,6))\n",
    "exp.Gxy.eval()\n",
    "exp.Gyx.eval()\n",
    "with torch.no_grad():\n",
    "    test_fake_art = exp.Gyx(test_landscape2).detach()\n",
    "    test_fake_landscape = exp.Gxy(test_art2).detach()\n",
    "    recon_art= exp.Gyx(test_fake_landscape).detach()\n",
    "    recon_landscape =  exp.Gxy(test_fake_art).detach()\n",
    "    myimshow(test_art2[0], ax=axes[0][0])\n",
    "    myimshow(test_fake_art[0], ax=axes[1][1])\n",
    "    myimshow(test_landscape2[0], ax=axes[1][0])\n",
    "    myimshow(test_fake_landscape[0], ax=axes[0][1])\n",
    "    myimshow(recon_landscape[0], ax=axes[1][2])\n",
    "    myimshow(recon_art[0], ax=axes[0][2])\n",
    "    f.canvas.draw()\n",
    "exp.Gxy.train()\n",
    "Gyx =exp.Gyx.train() # just to get rid of net structure print"
   ]
  }
 ],
 "metadata": {
  "kernelspec": {
   "display_name": "Python 3",
   "language": "python",
   "name": "python3"
  },
  "language_info": {
   "codemirror_mode": {
    "name": "ipython",
    "version": 3
   },
   "file_extension": ".py",
   "mimetype": "text/x-python",
   "name": "python",
   "nbconvert_exporter": "python",
   "pygments_lexer": "ipython3",
   "version": "3.6.8"
  }
 },
 "nbformat": 4,
 "nbformat_minor": 2
}
